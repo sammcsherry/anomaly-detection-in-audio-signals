{
 "cells": [
  {
   "cell_type": "code",
   "execution_count": null,
   "id": "9d883492",
   "metadata": {},
   "outputs": [],
   "source": [
    "# Using MATLAB Engine to call functions in Python \n",
    "\n",
    "\n",
    "import numpy\n",
    "import matlab.engine \n",
    "\n",
    "audiofile = 'AudioFiles/jar.mp3'; #add test to check input string is of correct format\n",
    "frameOverlapPercentage = 0.6;    #add test to check this is defined as a decimal between 0<= x < 1\n",
    "frameDuration = 25e-4;          #in seconds\n",
    "\n",
    "eng = matlab.engine.start_matlab()\n",
    "audioData, sampleRate, frameLength, frameOverlapLength, frameOverlapDuration = eng.feval(\"extract_audio_data\", audiofile,frameOverlapPercentage, frameDuration, nargout=5);\n",
    "\n",
    "segments = eng.feval(\"splitAudioData\",audioData, sampleRate, 60, nargout=1);\n",
    "numberOfSegments = segments.shape(1)\n",
    "\n",
    "#remove silence at start of audio file:\n",
    "audioData, startingDataPoint = eng.feval(\"removeSilence\", audioData, nargout=2);\n",
    "\n",
    "tempFFT, tempMFCC, tempMEL = eng.feval(\"fullRXD\", audioData, frameOverlapLength, frameLength, sampleRate,  \"ALL\", nargout=3);\n",
    "\n",
    "numberOfFrames = tempFFT.shape(1)\n",
    "\n",
    "#is adjustment needed on the time array?\n",
    "timeArray = eng.feval(\"getTimeArray\", numberOfFrames, frameDuration, frameLength, frameOverlapDuration, startingDataPoint, nargout=1);\n",
    "\n",
    "#plot cleaned anomaly scores:\n",
    "finalAnomalies1 = eng.feval (\"cleanRXDwrapperFunc\", tempFFT, .9, 10, nargout= 1)\n",
    "finalAnomalies2 = eng.feval (\"cleanRXDwrapperFunc\", tempMEL, .9, 10, nargout = 1)\n",
    "finalAnomalies3 = eng.feval (\"cleanRXDwrapperFunc\", tempMFCC, .9, 10, nargout = 1)\n",
    "\n",
    "\n"
   ]
  }
 ],
 "metadata": {
  "kernelspec": {
   "display_name": "Python 3 (ipykernel)",
   "language": "python",
   "name": "python3"
  },
  "language_info": {
   "codemirror_mode": {
    "name": "ipython",
    "version": 3
   },
   "file_extension": ".py",
   "mimetype": "text/x-python",
   "name": "python",
   "nbconvert_exporter": "python",
   "pygments_lexer": "ipython3",
   "version": "3.10.9"
  }
 },
 "nbformat": 4,
 "nbformat_minor": 5
}
