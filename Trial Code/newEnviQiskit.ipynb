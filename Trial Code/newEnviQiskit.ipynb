{
 "cells": [
  {
   "cell_type": "code",
   "execution_count": 3,
   "metadata": {},
   "outputs": [],
   "source": [
    "#this is for the classical b to quantum b output transition\n",
    "#this may not work and maybe a better way.\n",
    "from qiskit import ClassicalRegister, QuentumRegister, QuantumCircuit, execute, Aer\n",
    "\n",
    "import Our_Qiskit_Functions as oq\n",
    "import numpy as np\n",
    "import math as m\n",
    "#S_simulator = Aer.backends(name='statevector_simulator')[0]\n",
    "#M_simulator = Aer.backends(name='qasm_simulator')[0]\n",
    "\n",
    "B = #ourvector which is the 3 by\n",
    "q = QuantumRegister(3)\n",
    "three_qubits = QuantumCircuit(q)\n",
    "    \n",
    "    three_qubits.x(q[0])\n",
    "    three_qubits.iden(q[1])\n",
    "    three_qubits.iden(q[2])\n",
    "\n",
    "quantumB = 0\n",
    "\n",
    "I = np.matlib.identiy(len(B))\n",
    "\n",
    "for i in len(B):\n",
    "    Ui = I[:,i]\n",
    "    q[0] = Ui[0]\n",
    "    q[1] = Ui[1]\n",
    "    q[2] = Ui[2]\n",
    "\n",
    "    KetUi = q\n",
    "    Betai = b[i]\n",
    "    Bi = b[i] * KetUi\n",
    "    QuantumB += Bi\n",
    "\n",
    "print()\n",
    "job = execute(three_qubits, S_simulator)\n",
    "result = job.result()\n",
    "result.get_statevector()\n"
   ]
  }
 ],
 "metadata": {
  "kernelspec": {
   "display_name": "newEnvi",
   "language": "python",
   "name": "python3"
  },
  "language_info": {
   "codemirror_mode": {
    "name": "ipython",
    "version": 3
   },
   "file_extension": ".py",
   "mimetype": "text/x-python",
   "name": "python",
   "nbconvert_exporter": "python",
   "pygments_lexer": "ipython3",
   "version": "3.12.3"
  }
 },
 "nbformat": 4,
 "nbformat_minor": 2
}
